{
  "nbformat": 4,
  "nbformat_minor": 0,
  "metadata": {
    "colab": {
      "provenance": [],
      "authorship_tag": "ABX9TyN3xE2p9evsjnuIlIZCBmym",
      "include_colab_link": true
    },
    "kernelspec": {
      "name": "python3",
      "display_name": "Python 3"
    },
    "language_info": {
      "name": "python"
    }
  },
  "cells": [
    {
      "cell_type": "markdown",
      "metadata": {
        "id": "view-in-github",
        "colab_type": "text"
      },
      "source": [
        "<a href=\"https://colab.research.google.com/github/oishi-12/Basic-structure-of-an-image-assingment-7/blob/main/rgb_band_seperation.ipynb\" target=\"_parent\"><img src=\"https://colab.research.google.com/assets/colab-badge.svg\" alt=\"Open In Colab\"/></a>"
      ]
    },
    {
      "cell_type": "code",
      "execution_count": null,
      "metadata": {
        "id": "hR7J-UsgXvFb"
      },
      "outputs": [],
      "source": [
        "from google.colab import drive\n",
        "drive.mount('/content/drive')\n",
        "\n",
        "import matplotlib.pyplot as plt\n",
        "import matplotlib.image as mpimg\n",
        "\n",
        "# Read the image\n",
        "img = mpimg.imread('/content/drive/MyDrive/Colab Notebooks/rgb.jpg')  # Replace 'image.jpg' with the path to your image file\n",
        "\n",
        "# Separate the RGB channels\n",
        "red_channel = img[:,:,0]\n",
        "green_channel = img[:,:,1]\n",
        "blue_channel = img[:,:,2]\n",
        "\n",
        "# Display the original image and the separated channels\n",
        "plt.figure(figsize=(10, 6))\n",
        "\n",
        "# Display the original image\n",
        "plt.subplot(2, 2, 1)\n",
        "plt.imshow(img)\n",
        "plt.title('Original Image')\n",
        "\n",
        "# Display the red channel\n",
        "plt.subplot(2, 2, 2)\n",
        "plt.imshow(red_channel, cmap='Reds')\n",
        "plt.title('Red Channel')\n",
        "\n",
        "# Display the green channel\n",
        "plt.subplot(2, 2, 3)\n",
        "plt.imshow(green_channel, cmap='Greens')\n",
        "plt.title('Green Channel')\n",
        "\n",
        "# Display the blue channel\n",
        "plt.subplot(2, 2, 4)\n",
        "plt.imshow(blue_channel, cmap='Blues')\n",
        "plt.title('Blue Channel')\n",
        "\n",
        "# Adjust spacing between subplots\n",
        "plt.subplots_adjust(hspace=0.3, wspace=0.4)\n",
        "\n",
        "plt.savefig(\"separated_R_G_B.png\")\n",
        "\n",
        "plt.show()\n"
      ]
    }
  ]
}