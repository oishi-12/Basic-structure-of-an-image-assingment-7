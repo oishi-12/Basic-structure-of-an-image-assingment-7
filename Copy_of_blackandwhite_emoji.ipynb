{
  "nbformat": 4,
  "nbformat_minor": 0,
  "metadata": {
    "colab": {
      "provenance": [],
      "authorship_tag": "ABX9TyO4tPbEUf3RIJUJQk9wbcz6",
      "include_colab_link": true
    },
    "kernelspec": {
      "name": "python3",
      "display_name": "Python 3"
    },
    "language_info": {
      "name": "python"
    }
  },
  "cells": [
    {
      "cell_type": "markdown",
      "metadata": {
        "id": "view-in-github",
        "colab_type": "text"
      },
      "source": [
        "<a href=\"https://colab.research.google.com/github/oishi-12/Basic-structure-of-an-image-assingment-7/blob/main/Copy_of_blackandwhite_emoji.ipynb\" target=\"_parent\"><img src=\"https://colab.research.google.com/assets/colab-badge.svg\" alt=\"Open In Colab\"/></a>"
      ]
    },
    {
      "cell_type": "code",
      "execution_count": null,
      "metadata": {
        "colab": {
          "base_uri": "https://localhost:8080/",
          "height": 447
        },
        "id": "v1RvXnc2j-5w",
        "outputId": "cc6aea88-4c71-42b9-bd4d-616d419f40b6"
      },
      "outputs": [
        {
          "output_type": "display_data",
          "data": {
            "text/plain": [
              "<Figure size 640x480 with 1 Axes>"
            ],
            "image/png": "[encoded data removed]"
          },
          "metadata": {}
        },
        {
          "output_type": "stream",
          "name": "stdout",
          "text": [
            "(11, 11)\n"
          ]
        }
      ],
      "source": [
        "import numpy as np\n",
        "import matplotlib.pyplot as plt\n",
        "\n",
        "ar = np.array([[1,1,1,1,1,1,1,1,1,1,1],\n",
        "               [1,1,1,1,1,1,1,1,1,1,1],\n",
        "               [1,1,0,0,0,0,0,0,0,1,1],\n",
        "               [1,1,0,1,1,1,1,1,0,1,1],\n",
        "               [1,1,0,1,1,0,1,1,0,1,1],\n",
        "               [1,1,0,1,0,0,0,1,0,1,1],\n",
        "               [1,1,0,1,1,0,1,1,0,1,1],\n",
        "               [1,1,0,1,1,1,1,1,0,1,1],\n",
        "               [1,1,0,0,0,0,0,0,0,1,1],\n",
        "               [1,1,1,1,1,1,1,1,1,1,1],\n",
        "               [1,1,1,1,1,1,1,1,1,1,1]])\n",
        "\n",
        "# Plot the array with each grid cell as a pixel\n",
        "plt.imshow(ar, cmap=\"gray\", extent=[0, 11, 0, 11])\n",
        "\n",
        "# Define grid with axis='both' to display grid lines on both x and y axes\n",
        "plt.grid(True, which='both', color='black', linewidth=1)\n",
        "\n",
        "# Show the tick count on both x and y axes\n",
        "plt.xticks(np.arange(0,11, 1))\n",
        "plt.yticks(np.arange(0, 11, 1))\n",
        "plt.savefig(\"gray-emoji\")\n",
        "\n",
        "plt.show()\n",
        "print(ar.shape)\n"
      ]
    }
  ]
}